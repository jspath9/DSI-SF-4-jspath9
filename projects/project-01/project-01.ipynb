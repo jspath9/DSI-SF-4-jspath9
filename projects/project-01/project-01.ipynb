{
 "cells": [
  {
   "cell_type": "markdown",
   "metadata": {},
   "source": [
    "<img src=\"http://imgur.com/1ZcRyrc.png\" style=\"float: left; margin: 15px; height: 80px\">\n",
    "\n",
    "# Project 1\n",
    "\n",
    "### Review python syntax, structure, and concepts.\n",
    "\n",
    "---\n",
    "\n",
    "Project 1 is designed to be review and practice of python programming competencies.\n",
    "\n",
    "Please see the [Project Section Guide](https://github.com/ga-students/DSI-SF-4/wiki/Project-Section-Guide) on the github wiki for review of the color-coding of problems.\n"
   ]
  },
  {
   "cell_type": "markdown",
   "metadata": {},
   "source": [
    "<img src=\"http://imgur.com/l5NasQj.png\" style=\"float: left; margin: 25px 15px 0px 0px; height: 25px\">\n",
    "\n",
    "## Review Problem 1\n",
    "\n",
    "---\n",
    "\n",
    "For this problem you will be writing a function that the supplied dictionary `input_dict` and operates on it.\n",
    "\n",
    "Define a function that:\n",
    "\n",
    "- Accepts 1 argument, which will be a dictionary.\n",
    "- Prints the dictionary.\n",
    "- Iterates through the key:value pairs of the dictionary:\n",
    "    - For pairs where the key starts with a lowercase vowel, change the value to \"vowel\".\n",
    "    - For pairs where the key starts with a lowercase consonant, change the value to \"consonant\".\n",
    "    - Remove all other pairs from the dictionary.\n",
    "- Prints the modified dictionary.\n",
    "- Returns the modified dictionary.\n",
    "\n",
    "Notes/Hints:\n",
    " \n",
    "- ```string.ascii_lowercase``` is a string of all the lowercase letters in the alphabet. to use it you need to **import string** at the beginning of your script.\n",
    "- You can check if a character is in a string with **in**. \n",
    "    - ex: \n",
    "        ```python\n",
    "        if ch in st:\n",
    "        ```\n",
    "- You can create a new dictionary to store the modified return values or operate on the input dictionary.\n",
    "- You can check types using the ```type()``` python function:\n",
    "    ```python\n",
    "    type(1) == int\n",
    "    type(1.2) == float\n",
    "    type('ab') == str\n",
    "    type((1,2)) == tuple\n",
    "    type([3,2]) == list\n",
    "    type({'a':'b'}) == dict\n",
    "    ```"
   ]
  },
  {
   "cell_type": "code",
   "execution_count": 62,
   "metadata": {
    "collapsed": true
   },
   "outputs": [],
   "source": [
    "input_dict = {'list':[1,2,3,4], 'tuple':('cat', 'dog'), 'integer':1, \n",
    "              'float':99.99, 1:'integer', 2:'integer_2', 'Uppercase_string':'ABCD',\n",
    "              'CHARACTER':'C'}"
   ]
  },
  {
   "cell_type": "markdown",
   "metadata": {},
   "source": [
    "#### Define your function below:"
   ]
  },
  {
   "cell_type": "code",
   "execution_count": 63,
   "metadata": {
    "collapsed": false
   },
   "outputs": [],
   "source": [
    "import string\n",
    "def process_dict(input_dict):\n",
    "    temp_dict = []\n",
    "    vowels = 'aeiou'\n",
    "    print 'Her is the ditionary' \n",
    "    print input_dict\n",
    "    print ''\n",
    "    list_dict = input_dict.items()\n",
    "    for kv in list_dict:\n",
    "        key_char = kv[0]\n",
    "        string_key_char = str(key_char)\n",
    "        first_key_char = (string_key_char[0])                \n",
    "        if first_key_char in vowels:\n",
    "            input_dict[key_char] = 'vowel'\n",
    "        elif first_key_char in string.ascii_lowercase:\n",
    "            input_dict[key_char] = 'consonant'\n",
    "        else:\n",
    "            del input_dict[key_char]\n",
    "            \n",
    "    print 'updated dictionary'\n",
    "    print input_dict\n",
    "        \n",
    "        "
   ]
  },
  {
   "cell_type": "code",
   "execution_count": 64,
   "metadata": {
    "collapsed": false
   },
   "outputs": [
    {
     "name": "stdout",
     "output_type": "stream",
     "text": [
      "Her is the ditionary\n",
      "{'Uppercase_string': 'ABCD', 1: 'integer', 2: 'integer_2', 'tuple': ('cat', 'dog'), 'integer': 1, 'CHARACTER': 'C', 'float': 99.99, 'list': [1, 2, 3, 4]}\n",
      "\n",
      "updated dictionary\n",
      "{'tuple': 'consonant', 'integer': 'vowel', 'float': 'consonant', 'list': 'consonant'}\n"
     ]
    }
   ],
   "source": [
    "process_dict(input_dict)"
   ]
  },
  {
   "cell_type": "markdown",
   "metadata": {},
   "source": [
    "<img src=\"http://imgur.com/l5NasQj.png\" style=\"float: left; margin: 25px 15px 0px 0px; height: 25px\">\n",
    "\n",
    "## Review Problem 2\n",
    "\n",
    "---\n",
    "\n",
    "Write a function that operates on a dictionary and an optional list of numbers.\n",
    "\n",
    "Define a function that:\n",
    "\n",
    "- Accepts a dictionary as its first argument. The values of the dictionary should be a list of numbers.\n",
    "- Accepts an optional keyword argument that will be a list. The default should be an empty list. Name the optional keyword list `remainder`.\n",
    "- If `remainder` is empty: append a 2 to `remainder`.\n",
    "- Print the dictionary as well as `remainder`.\n",
    "- Iterate though they key:value pairs in the dictionary:\n",
    "    - For each value list of numbers, calculate the remainder of each number for each number in the `remainder` list.\n",
    "    - Create a dictionary where the keys are the numbers in the value list, and the values are the remainders of that number from the remainder list.\n",
    "    - ex: if a value in the dictionary is `[10,9]` and `remainder` is `[2,3]`, the new dictionary would be: `{10:[0, 1], 9:[1, 0]}`\n",
    "    - Keep the original key of the input dictionary, but change the value to the new dictionary of remainders.\n",
    "- Print out the final output dictionary.\n",
    "- Return the output dictionary.\n",
    "\n",
    "Notes/Hints:\n",
    "\n",
    "- keyword arguments are specified in functions like so: \n",
    "    ```python\n",
    "    def example_function(arg1, kwarg1=default_value):\n",
    "    ```\n",
    "- The operator for finding the remainder of two values is \"modulus\": ```%```\n",
    "    ```python\n",
    "    14 % 5 == 4\n",
    "    ```"
   ]
  },
  {
   "cell_type": "code",
   "execution_count": 100,
   "metadata": {
    "collapsed": false
   },
   "outputs": [],
   "source": [
    "test_dict = {'A':[1,2,3,4,5], 'B':[12.1, 14.2, 20.3, 25.4], 'C':[10, 25.5, 50.9, 101]}\n",
    "optional_remainder = [2,3,4,5]"
   ]
  },
  {
   "cell_type": "markdown",
   "metadata": {},
   "source": [
    "#### Define your function below:"
   ]
  },
  {
   "cell_type": "code",
   "execution_count": 101,
   "metadata": {
    "collapsed": false
   },
   "outputs": [],
   "source": [
    "def test_remainder(dict_test, remainder=[]):\n",
    "    if remainder == []:\n",
    "        remainder.append(2)\n",
    "    remainder_list = []\n",
    "    new_dict = {}\n",
    "    list_dict = dict_test.items()\n",
    "    for kv,tp in list_dict:\n",
    "        little_dict={}\n",
    "        for y in tp:\n",
    "            little_list=[]\n",
    "            for z in remainder:\n",
    "                little_list.append(y % z)\n",
    "            little_dict[y] = little_list\n",
    "        dict_test[kv] = little_dict\n",
    "    print dict_test\n",
    "    return dict_test\n",
    "                "
   ]
  },
  {
   "cell_type": "markdown",
   "metadata": {},
   "source": [
    "#### Run the function with `test_dict` only:"
   ]
  },
  {
   "cell_type": "code",
   "execution_count": 102,
   "metadata": {
    "collapsed": false
   },
   "outputs": [
    {
     "name": "stdout",
     "output_type": "stream",
     "text": [
      "{'A': {1: [1], 2: [0], 3: [1], 4: [0], 5: [1]}, 'C': {25.5: [1.5], 10: [0], 50.9: [0.8999999999999986], 101: [1]}, 'B': {14.2: [0.1999999999999993], 20.3: [0.3000000000000007], 12.1: [0.09999999999999964], 25.4: [1.3999999999999986]}}\n"
     ]
    }
   ],
   "source": [
    "test_dict = test_remainder(test_dict)"
   ]
  },
  {
   "cell_type": "markdown",
   "metadata": {},
   "source": [
    "#### Run the function with `test_dict` and `optional_remainder`:"
   ]
  },
  {
   "cell_type": "code",
   "execution_count": 103,
   "metadata": {
    "collapsed": false
   },
   "outputs": [
    {
     "name": "stdout",
     "output_type": "stream",
     "text": [
      "{'A': {1: [1, 1, 1, 1], 2: [0, 2, 2, 2], 3: [1, 0, 3, 3], 4: [0, 1, 0, 4], 5: [1, 2, 1, 0]}, 'C': {25.5: [1.5, 1.5, 1.5, 0.5], 10: [0, 1, 2, 0], 50.9: [0.8999999999999986, 2.8999999999999986, 2.8999999999999986, 0.8999999999999986], 101: [1, 2, 1, 1]}, 'B': {14.2: [0.1999999999999993, 2.1999999999999993, 2.1999999999999993, 4.199999999999999], 20.3: [0.3000000000000007, 2.3000000000000007, 0.3000000000000007, 0.3000000000000007], 12.1: [0.09999999999999964, 0.09999999999999964, 0.09999999999999964, 2.0999999999999996], 25.4: [1.3999999999999986, 1.3999999999999986, 1.3999999999999986, 0.3999999999999986]}}\n"
     ]
    }
   ],
   "source": [
    "test_dict = test_remainder(test_dict, optional_remainder)"
   ]
  },
  {
   "cell_type": "markdown",
   "metadata": {},
   "source": [
    "<img src=\"http://imgur.com/l5NasQj.png\" style=\"float: left; margin: 25px 15px 0px 0px; height: 25px\">\n",
    "\n",
    "## Review Problem 3\n",
    "\n",
    "---\n",
    "\n",
    "Write a function that will iterate through two lists and perform an operation.\n",
    "\n",
    "Define a function that:\n",
    "\n",
    "- Accepts two arguments that are lists of numbers (either float or integer):\n",
    "- Print both of the lists.\n",
    "- Construct a `while` loop that:\n",
    "    - Prints the current iteration number, starting at 1.\n",
    "        ```python\n",
    "        Iteration: 1\n",
    "        ```\n",
    "    - Iterates through each element of both lists at the same time using a `for` loop, assigning the number from list 1 to a variable `value1` and the number from list 2 to a variable `value2`. For example, if `list1 == [1, 2]` and `list2 == [3, 4]`, there will be two iterations through the `for` loop:\n",
    "        - Iteration 1 will have ```value1 == 1``` and ```value2 == 3```\n",
    "        - Iteration 2 will have ```value2 == 2``` and ```value2 == 4```\n",
    "    - Within the `for` loop:\n",
    "        - Multiply `value1` and `value2` together and assign it to variable `multiplied`.\n",
    "        - Print `multiplied`.\n",
    "        - If `multiplied` is greater than 300, break out of the `for` loop and `while` loop.\n",
    "        - Otherwise, multiply each element of list 1 and list 2 by 2 before continuing through the `while` loop\n",
    "- Print \"Function complete.\"\n",
    "\n",
    "Notes/Hints:\n",
    "\n",
    "- To break out of a for loop or while loop at any time, use the `break` command.\n",
    "    - ex: \n",
    "        ```python\n",
    "        for i in my_list: \n",
    "            if i > 10: \n",
    "                break\n",
    "        ```\n",
    "- The `zip()` function will join lists/tuples element by element.\n",
    "    - ex:\n",
    "        ```python\n",
    "        zip([1,2], [3,4]) == [(1, 3), (2, 4)]\n",
    "        ```\n",
    "    - In a `for` loop, you can assign multiple variables at a time:\n",
    "        ```python\n",
    "        for value1, value2 in zip(list1, list2):\n",
    "        ```\n",
    "- `while True` can run a loop until a `break` condition is reached. Be careful!"
   ]
  },
  {
   "cell_type": "code",
   "execution_count": 2,
   "metadata": {
    "collapsed": true
   },
   "outputs": [],
   "source": [
    "list1 = [1.5,3.5,5.5,7.5]\n",
    "list2 = [0,4,8,12]"
   ]
  },
  {
   "cell_type": "markdown",
   "metadata": {},
   "source": [
    "#### Define your function below:"
   ]
  },
  {
   "cell_type": "code",
   "execution_count": 69,
   "metadata": {
    "collapsed": false
   },
   "outputs": [],
   "source": [
    "def multi_loop(lst1, lst2):\n",
    "    print(lst1)\n",
    "    print(lst2)\n",
    "    iteration = 1\n",
    "    multiplied = 0\n",
    "    while multiplied <= 300:\n",
    "        for l1, l2 in zip(lst1, lst2):\n",
    "            print 'iteration: ', iteration\n",
    "            value1 = l1\n",
    "            value2 = l2\n",
    "            multiplied = value1 * value2\n",
    "            print 'multiplied: ', multiplied\n",
    "            if multiplied > 300:\n",
    "                break\n",
    "            iteration += 1\n",
    "        \n",
    "        lst1 = [l1 * 2 for l1 in lst1]\n",
    "        lst2 = [l2 * 2 for l2 in lst2]\n",
    "        \n",
    "        if iteration > 5000:\n",
    "            break\n",
    "    print 'Function Complete'"
   ]
  },
  {
   "cell_type": "markdown",
   "metadata": {},
   "source": [
    "#### Run your function with arguments `list1` and `list2`"
   ]
  },
  {
   "cell_type": "code",
   "execution_count": 70,
   "metadata": {
    "collapsed": false
   },
   "outputs": [
    {
     "name": "stdout",
     "output_type": "stream",
     "text": [
      "[1.5, 3.5, 5.5, 7.5]\n",
      "[0, 4, 8, 12]\n",
      "iteration:  1\n",
      "multiplied:  0.0\n",
      "iteration:  2\n",
      "multiplied:  14.0\n",
      "iteration:  3\n",
      "multiplied:  44.0\n",
      "iteration:  4\n",
      "multiplied:  90.0\n",
      "iteration:  5\n",
      "multiplied:  0.0\n",
      "iteration:  6\n",
      "multiplied:  56.0\n",
      "iteration:  7\n",
      "multiplied:  176.0\n",
      "iteration:  8\n",
      "multiplied:  360.0\n",
      "Function Complete\n"
     ]
    }
   ],
   "source": [
    "multi_loop(list1, list2)"
   ]
  },
  {
   "cell_type": "markdown",
   "metadata": {},
   "source": [
    "<img src=\"http://imgur.com/l5NasQj.png\" style=\"float: left; margin: 25px 15px 0px 0px; height: 25px\">\n",
    "\n",
    "## Review Problem 4\n",
    "\n",
    "---\n",
    "\n",
    "Write a function that calculates summary statistics for distributions.\n",
    "\n",
    "Define a function that:\n",
    "\n",
    "- Accepts two arguments, `i` and `numbers`.\n",
    "- Prints a string indicating what the current `i` is.\n",
    "- Calculate, without using numpy, the mean of `numbers`.\n",
    "- Calculate, without using numpy, the median of `numbers`.\n",
    "- Print the mean and median, for example:\n",
    "    ```python\n",
    "    mean: 12\n",
    "    median: 9\n",
    "    ```\n",
    "    \n",
    "Notes/Hints:\n",
    "\n",
    "- You should define your function _outside_ of the provided `for` loop, and then call it with `i` and `numbers` within the `for` loop.\n",
    "- `for i in range(1, 15, 2)` assigns `i` from 1 to 15 with a step size of 2."
   ]
  },
  {
   "cell_type": "markdown",
   "metadata": {},
   "source": [
    "#### Define your function(s) below:"
   ]
  },
  {
   "cell_type": "code",
   "execution_count": 21,
   "metadata": {
    "collapsed": false
   },
   "outputs": [],
   "source": [
    "#multi_loop(list1, list2)\n",
    "def q4_func(i, numbers):\n",
    "    num_len = len(numbers)\n",
    "    mean_val = float(sum(numbers) / num_len)\n",
    "    middle_index = int(num_len/2 - 0.5)\n",
    "    median_val = numbers[middle_index]\n",
    "    print 'value of i: ', i, ' mean for i: ', mean_val, 'median for i: ', median_val\n",
    "    return mean_val"
   ]
  },
  {
   "cell_type": "markdown",
   "metadata": {},
   "source": [
    "#### Run your function with the provided for-loop below (in place of `q5_func`)"
   ]
  },
  {
   "cell_type": "code",
   "execution_count": 22,
   "metadata": {
    "collapsed": false
   },
   "outputs": [
    {
     "name": "stdout",
     "output_type": "stream",
     "text": [
      "value of i:  1  mean for i:  0.0 median for i:  0\n",
      "value of i:  3  mean for i:  33.0 median for i:  49\n",
      "value of i:  5  mean for i:  39.0 median for i:  49\n",
      "value of i:  7  mean for i:  42.0 median for i:  0\n",
      "value of i:  9  mean for i:  44.0 median for i:  49\n",
      "value of i:  11  mean for i:  45.0 median for i:  49\n",
      "value of i:  13  mean for i:  46.0 median for i:  49\n"
     ]
    }
   ],
   "source": [
    "import numpy as np\n",
    "\n",
    "# Provided for loop for i and numbers:\n",
    "for i in range(1, 15, 2):\n",
    "    numbers = [x if not x % i == 0 else 0 for x in range(101)]\n",
    "    # Call your function here using i and numbers:\n",
    "    q4_func(i, numbers)\n",
    "    \n",
    "    "
   ]
  },
  {
   "cell_type": "markdown",
   "metadata": {},
   "source": [
    "<img src=\"http://imgur.com/l5NasQj.png\" style=\"float: left; margin: 25px 15px 0px 0px; height: 25px\">\n",
    "\n",
    "## Review Problem 5\n",
    "\n",
    "---\n",
    "\n",
    "Define a function that calculates the [pearson correlation coefficient](https://en.wikipedia.org/wiki/Pearson_product-moment_correlation_coefficient) between two lists of numbers.\n",
    "\n",
    "Your function will:\n",
    "\n",
    "- Accept two arguments (the provided lists `X` and `Y`).\n",
    "- Print the length of `X` and `Y` like so:\n",
    "    ```python\n",
    "    Length of X: 40\n",
    "    Length of Y: 40\n",
    "    ```\n",
    "- Calculate the pearson correlation coefficient between the two lists and assign the value to variable `pearson_r`.\n",
    "    - Create a variable `X_deviation` that is each element of `X` minus the mean of `X`. \n",
    "    - Create a variable `Y_deviation` that is each element of `Y` minus the mean of `Y`.\n",
    "    - Create a variable `sqrt_X_deviation_sq` that is the square root of the sum of the square of each element of `X_deviation`.\n",
    "    - Create a variable `sqrt_Y_deviation_sq` that is the same thing you just did but for `Y_deviation`.\n",
    "    - Create a variable `sum_XY_deviation` that is the sum of each element of `X` and `Y` multiplied by each other, in order. You can use the `zip()` function to iterate through two lists at the same time:\n",
    "        ```python\n",
    "        for x_d, y_d in zip(X_deviation, Y_deviation):\n",
    "        ```\n",
    "    - `pearson_r` is equal to `sum_XY_deviation` divided by `(sqrt_X_deviation_sq * sqrt_Y_deviation_sq)`.\n",
    "- Print `pearson_r`.\n",
    "- Check if it is the same as numpy's correlation function. Print `np.corrcoef(X, Y)[0,1]`\n",
    "    "
   ]
  },
  {
   "cell_type": "code",
   "execution_count": 85,
   "metadata": {
    "collapsed": true
   },
   "outputs": [],
   "source": [
    "X = [14.2,5.8,4.8,12.7,5.6,-1.2,5.3,11.9,4.8,8.1,1.5,8.5,14.9,6.1,\n",
    "     6.8,12.6,15.5,24.3,15.6,16.8,22.3,22.6,26.2,19.0,24.3,26.3,\n",
    "     25.3,31.6,27.3,33.0,32.6,30.7,29.6,34.7,32.7,43.1,40.1,35.4,49.6,38.6]\n",
    "\n",
    "#X = [14.2,5.8,4.8]\n",
    "#Y = [-15.5,-8.5,0.8]\n",
    "\n",
    "Y = [-15.5,-8.5,0.8,-3.9,4.9,12.7,10.0,16.5,5.7,13.1,10.3,12.4,-1.5,\n",
    "     1.7,26.0,14.3,30.3,21.7,27.5,38.2,18.9,21.2,18.2,26.1,14.7,16.4,\n",
    "     22.8,34.3,37.1,38.9,39.1,33.8,52.2,36.5,20.7,21.6,14.5,33.6,44.5,44.2]"
   ]
  },
  {
   "cell_type": "markdown",
   "metadata": {},
   "source": [
    "#### Define your function below:"
   ]
  },
  {
   "cell_type": "code",
   "execution_count": 77,
   "metadata": {
    "collapsed": false
   },
   "outputs": [],
   "source": [
    "def pearson(X, Y):\n",
    "    print len(X)\n",
    "    print len(Y)\n",
    "    mean_X = np.mean(X)\n",
    "    \n",
    "    mean_Y = np.mean(Y)\n",
    "   \n",
    "    X_deviation = []\n",
    "    Y_deviation = []\n",
    "    for i in zip(X, Y):\n",
    "        X_deviation.append(i[0] - mean_X)\n",
    "        Y_deviation.append(i[1] - mean_Y)\n",
    "    X_deviation_sq = 0\n",
    "    Y_deviation_sq = 0\n",
    "    for j in zip(X_deviation, Y_deviation):\n",
    "        square_it_for_X = (j[0])**2\n",
    "        X_deviation_sq += square_it_for_X\n",
    "        square_it_for_Y = j[1]**2\n",
    "        Y_deviation_sq += square_it_for_Y\n",
    "\n",
    "    sqrt_X_deviation_sq = mt.sqrt(X_deviation_sq)\n",
    "    sqrt_Y_deviation_sq = mt.sqrt(Y_deviation_sq)\n",
    "\n",
    "    sum_XY_deviation = 0\n",
    "    for x_d, y_d in zip(X_deviation, Y_deviation):\n",
    "        sum_XY_deviation += x_d*y_d\n",
    "    pearson_r = sum_XY_deviation / (sqrt_X_deviation_sq * sqrt_Y_deviation_sq)\n",
    "    print 'mean_x ', mean_X\n",
    "    print 'mean_y ', mean_Y    \n",
    "    print 'x_dev_sq ', X_deviation_sq\n",
    "    print 'y_dev_sq ', Y_deviation_sq       \n",
    "    print 'x_dev_sqrt ', sqrt_X_deviation_sq\n",
    "    print 'y_dev_sqrt ', sqrt_Y_deviation_sq\n",
    "    print 'sum_XY_deviation ', sum_XY_deviation\n",
    "    return pearson_r\n",
    "    \n",
    "        \n",
    "\n",
    "    \n"
   ]
  },
  {
   "cell_type": "markdown",
   "metadata": {},
   "source": [
    "#### Run your function on `X` and `Y`:"
   ]
  },
  {
   "cell_type": "code",
   "execution_count": 78,
   "metadata": {
    "collapsed": false
   },
   "outputs": [
    {
     "name": "stdout",
     "output_type": "stream",
     "text": [
      "40\n",
      "40\n",
      "mean_x  20.49\n",
      "mean_y  20.15\n",
      "x_dev_sq  6446.516\n",
      "y_dev_sq  9385.64\n",
      "x_dev_sqrt  80.2901986546\n",
      "y_dev_sqrt  96.8795127981\n",
      "sum_XY_deviation  5133.72\n",
      "my result\n",
      "0.659990523006\n",
      "numpy result\n",
      "0.659990523006\n"
     ]
    }
   ],
   "source": [
    "import math as mt\n",
    "import numpy as np\n",
    "pearson_r = pearson(X, Y)\n",
    "print 'my result'\n",
    "print pearson_r\n",
    "print 'numpy result'\n",
    "print np.corrcoef(X, Y)[0,1]"
   ]
  },
  {
   "cell_type": "markdown",
   "metadata": {},
   "source": [
    "<img src=\"http://imgur.com/l5NasQj.png\" style=\"float: left; margin: 25px 15px 0px 0px; height: 25px\">\n",
    "\n",
    "## Review Problem 6\n",
    "\n",
    "---\n",
    "\n",
    "For this problem you will be defining a function that calculates the [spearman rank correlation coefficient](https://en.wikipedia.org/wiki/Spearman%27s_rank_correlation_coefficient) between two lists. Spearman's rho is a measure of how related two sets of numbers are.\n",
    "\n",
    "Your function will:\n",
    "\n",
    "- Accept the provided lists of numbers defined for problem 5, `X` and `Y`.\n",
    "- Calculate the rank of the numbers in the `X` and `Y` lists. The rank is a number that defines what _index position_ each number would be if the list were in order.\n",
    "    - For example: say `list1 = [5,2,0,9,-5]`, then `list1_rank = [3,2,1,4,0]`\n",
    "    - Calculating the rank is not trivial. You can use the `rankdata()` function from `scipy.stats` on a list to get the ranks of the numbers.\n",
    "    - Assign the rank of list `X` to variable `X_rank` and list `Y` to variable `Y_rank`.\n",
    "- Manually calculate the covariance between `X_rank` and `Y_rank` as `XY_rank_cov`:\n",
    "    1. Calculate `X_mean`: the mean of `X_rank` using `np.mean()`.\n",
    "    2. Calculate `Y_mean`: the mean of `Y_rank` using `np.mean()`.\n",
    "    3. Calculate `X_deviation`: subtract `X_mean` from each element of `X_rank`.\n",
    "    4. Calculate `Y_deviation`: subtract `Y_mean` from each element of `Y_rank`.\n",
    "    5. Calculate `XY_d`: multiply `X_deviation` with `Y_deviation`, element by element. You can use pythons `zip()` function to iterate across lists at the same time:\n",
    "    ```python\n",
    "    for xd, yd in zip(X_deviation, Y_deviation):\n",
    "    ```\n",
    "    6. Calculate `sum_XY_d`: the sum of the elements in `XY_d` with `np.sum`.\n",
    "    7. Calculate `XY_rank_cov`: divide `sum_XY_d` by `len(XY_d)`.\n",
    "- Calculate the standard deviations `X_rank_std` and `Y_rank_std` of the `X_rank` and `Y_rank` lists. You can use `np.std()`.\n",
    "- Calculate the spearman rank correlation coefficient as `XY_spearman`: divide `XY_rank_cov` by `(X_rank_std * Y_rank_std)`.\n",
    "- Print `XY_spearman`.\n",
    "- Compare your value to the scipy function for spearman: print out `spearmanr(X, Y)`."
   ]
  },
  {
   "cell_type": "markdown",
   "metadata": {},
   "source": [
    "#### Define your function below:"
   ]
  },
  {
   "cell_type": "code",
   "execution_count": 86,
   "metadata": {
    "collapsed": false
   },
   "outputs": [],
   "source": [
    "def spearman_rho(X,Y):\n",
    "    X_rank = stats.rankdata(X)\n",
    "    Y_rank = stats.rankdata(Y)\n",
    "    X_mean = np.mean(X_rank)\n",
    "    Y_mean = np.mean(Y_rank)\n",
    "    X_deviation = [xr - X_mean for xr in X_rank]\n",
    "    Y_deviation = [xr - Y_mean for xr in Y_rank]\n",
    "    XY_d = []\n",
    "    for xd, yd in zip(X_deviation, Y_deviation):\n",
    "        XY_d.append(xd*yd)\n",
    "    sum_XY_d = np.sum(XY_d)\n",
    "    XY_rank_cov = sum_XY_d / len(XY_d)\n",
    "    X_rank_std = np.std(X_rank)\n",
    "    Y_rank_std = np.std(Y_rank)\n",
    "    print 'rank for x and y ', X_rank, Y_rank\n",
    "    print 'means for x and y ', X_mean, Y_mean\n",
    "    print 'deviations for x and y ', X_deviation, Y_deviation\n",
    "    print 'XY_d ', XY_d\n",
    "    print 'XY_rank_cov ', XY_rank_cov\n",
    "    print 'the rank St Dev for X and Y ', X_rank_std, Y_rank_std\n",
    "    XY_spearman = XY_rank_cov / (X_rank_std * Y_rank_std)\n",
    "    print XY_spearman\n",
    "    return XY_spearman"
   ]
  },
  {
   "cell_type": "markdown",
   "metadata": {},
   "source": [
    "#### Run your function on lists `X` and `Y`:"
   ]
  },
  {
   "cell_type": "code",
   "execution_count": 87,
   "metadata": {
    "collapsed": false
   },
   "outputs": [
    {
     "name": "stdout",
     "output_type": "stream",
     "text": [
      "rank for x and y  [ 15.    7.    3.5  14.    6.    1.    5.   12.    3.5  10.    2.   11.\n",
      "  16.    8.    9.   13.   17.   23.5  18.   19.   21.   22.   26.   20.\n",
      "  23.5  27.   25.   31.   28.   34.   32.   30.   29.   35.   33.   39.\n",
      "  38.   36.   40.   37. ] [  1.   2.   5.   3.   7.  12.   9.  18.   8.  13.  10.  11.   4.   6.  26.\n",
      "  14.  29.  24.  28.  35.  20.  22.  19.  27.  16.  17.  25.  32.  34.  36.\n",
      "  37.  31.  40.  33.  21.  23.  15.  30.  39.  38.]\n",
      "means for x and y  20.5 20.5\n",
      "deviations for x and y  [-5.5, -13.5, -17.0, -6.5, -14.5, -19.5, -15.5, -8.5, -17.0, -10.5, -18.5, -9.5, -4.5, -12.5, -11.5, -7.5, -3.5, 3.0, -2.5, -1.5, 0.5, 1.5, 5.5, -0.5, 3.0, 6.5, 4.5, 10.5, 7.5, 13.5, 11.5, 9.5, 8.5, 14.5, 12.5, 18.5, 17.5, 15.5, 19.5, 16.5] [-19.5, -18.5, -15.5, -17.5, -13.5, -8.5, -11.5, -2.5, -12.5, -7.5, -10.5, -9.5, -16.5, -14.5, 5.5, -6.5, 8.5, 3.5, 7.5, 14.5, -0.5, 1.5, -1.5, 6.5, -4.5, -3.5, 4.5, 11.5, 13.5, 15.5, 16.5, 10.5, 19.5, 12.5, 0.5, 2.5, -5.5, 9.5, 18.5, 17.5]\n",
      "XY_d  [107.25, 249.75, 263.5, 113.75, 195.75, 165.75, 178.25, 21.25, 212.5, 78.75, 194.25, 90.25, 74.25, 181.25, -63.25, 48.75, -29.75, 10.5, -18.75, -21.75, -0.25, 2.25, -8.25, -3.25, -13.5, -22.75, 20.25, 120.75, 101.25, 209.25, 189.75, 99.75, 165.75, 181.25, 6.25, 46.25, -96.25, 147.25, 360.75, 288.75]\n",
      "XY_rank_cov  96.1875\n",
      "the rank St Dev for X and Y  11.5423134596 11.5433963806\n",
      "0.721925136867\n",
      "[14.2, 5.8, 4.8, 12.7, 5.6, -1.2, 5.3, 11.9, 4.8, 8.1, 1.5, 8.5, 14.9, 6.1, 6.8, 12.6, 15.5, 24.3, 15.6, 16.8, 22.3, 22.6, 26.2, 19.0, 24.3, 26.3, 25.3, 31.6, 27.3, 33.0, 32.6, 30.7, 29.6, 34.7, 32.7, 43.1, 40.1, 35.4, 49.6, 38.6] [-15.5, -8.5, 0.8, -3.9, 4.9, 12.7, 10.0, 16.5, 5.7, 13.1, 10.3, 12.4, -1.5, 1.7, 26.0, 14.3, 30.3, 21.7, 27.5, 38.2, 18.9, 21.2, 18.2, 26.1, 14.7, 16.4, 22.8, 34.3, 37.1, 38.9, 39.1, 33.8, 52.2, 36.5, 20.7, 21.6, 14.5, 33.6, 44.5, 44.2]\n",
      "My result\n",
      "0.721925136867\n",
      "SciPy result\n",
      "SpearmanrResult(correlation=0.72192513686692761, pvalue=1.4606957738616958e-07)\n"
     ]
    }
   ],
   "source": [
    "import numpy as np\n",
    "from scipy import stats\n",
    "my_result = spearman_rho(X,Y)\n",
    "print X,Y\n",
    "print 'My result'\n",
    "print my_result\n",
    "their_result = stats.spearmanr(X,Y)\n",
    "print 'SciPy result'\n",
    "print their_result\n",
    "\n",
    "\n",
    "\n"
   ]
  },
  {
   "cell_type": "markdown",
   "metadata": {},
   "source": [
    "<img src=\"http://imgur.com/l5NasQj.png\" style=\"float: left; margin: 25px 15px 0px 0px; height: 25px\">\n",
    "\n",
    "## Review Problem 7\n",
    "\n",
    "---\n",
    "\n",
    "Write a function to calculate the [root mean squared error](https://en.wikipedia.org/wiki/Root-mean-square_deviation), often written as RMSE. The RMSE is a popular measure of performance of predictions when you have a set of **observed values** and a set of **predicted values**. Your predicted values in this case are your \"predictions\" of what the true, observed values are.\n",
    "\n",
    "Your function will:\n",
    "\n",
    "- Accept two predefined lists as arguments: ```true_values``` and ```predictions```.\n",
    "- Calculate the error between ```predictions``` and ```true_values``` as variable ```errors```:\n",
    "    - Element by element, calculate the prediction minus the true value.\n",
    "- Calculate the square of each element in ```errors``` and assign this to variable ```sq_errors```.\n",
    "- Calculate ```avg_sq_error```, the mean of ```sq_errors```.\n",
    "- Calculate ```rmse```, the square root of ```avg_sq_error``` using ```np.sqrt()```.\n",
    "- Print ```rmse```.\n",
    "- Return ```rmse```."
   ]
  },
  {
   "cell_type": "code",
   "execution_count": 15,
   "metadata": {
    "collapsed": true
   },
   "outputs": [],
   "source": [
    "predictions = [14.2,5.8,4.8]\n",
    "#predictions = [14.2,5.8,4.8,12.7,5.6,-1.2,5.3,11.9,4.8,8.1,1.5,8.5,14.9,6.1,\n",
    "#     6.8,12.6,15.5,24.3,15.6,16.8,22.3,22.6,26.2,19.0,24.3,26.3,\n",
    "#     25.3,31.6,27.3,33.0,32.6,30.7,29.6,34.7,32.7,43.1,40.1,35.4,49.6,38.6]\n",
    "\n",
    "true_values = [-15.5,-8.5,0.8]\n",
    "#true_values = [-15.5,-8.5,0.8,-3.9,4.9,12.7,10.0,16.5,5.7,13.1,10.3,12.4,-1.5,\n",
    "#     1.7,26.0,14.3,30.3,21.7,27.5,38.2,18.9,21.2,18.2,26.1,14.7,16.4,\n",
    "#     22.8,34.3,37.1,38.9,39.1,33.8,52.2,36.5,20.7,21.6,14.5,33.6,44.5,44.2]"
   ]
  },
  {
   "cell_type": "markdown",
   "metadata": {},
   "source": [
    "#### Define your function below:"
   ]
  },
  {
   "cell_type": "code",
   "execution_count": 31,
   "metadata": {
    "collapsed": false
   },
   "outputs": [],
   "source": [
    "def RMSE_calc(true_values,predictions):\n",
    "    errors = []\n",
    "    for tr, pr in zip(true_values, predictions):\n",
    "        errors.append(pr - tr)\n",
    "    print errors\n",
    "    sq_errors = [err ** 2 for err in errors]\n",
    "    print sq_errors\n",
    "    avg_sq_error = np.mean(sq_errors)\n",
    "    print avg_sq_error\n",
    "    rmse = np.sqrt(avg_sq_error)\n",
    "    return rmse"
   ]
  },
  {
   "cell_type": "markdown",
   "metadata": {},
   "source": [
    "#### Run your function on `true_values` and `predictions`:"
   ]
  },
  {
   "cell_type": "code",
   "execution_count": 32,
   "metadata": {
    "collapsed": false
   },
   "outputs": [
    {
     "name": "stdout",
     "output_type": "stream",
     "text": [
      "[29.7, 14.3, 4.0]\n",
      "[882.0899999999999, 204.49, 16.0]\n",
      "367.526666667\n",
      "19.1709850208\n"
     ]
    }
   ],
   "source": [
    "import numpy as np\n",
    "from scipy import stats\n",
    "RMSE_value = RMSE_calc(true_values, predictions)\n",
    "print RMSE_value"
   ]
  },
  {
   "cell_type": "markdown",
   "metadata": {},
   "source": [
    "<img src=\"http://imgur.com/l5NasQj.png\" style=\"float: left; margin: 25px 15px 0px 0px; height: 25px\">\n",
    "\n",
    "## Review Problem 8\n",
    "\n",
    "---\n",
    "\n",
    "Define three functions to \"clean up\" two dictionaries and merge them together.\n",
    "\n",
    "Your first function, called ```string_intlist_cleaner``` should:\n",
    "\n",
    "- Accept one argument which will be a dictionary.\n",
    "- Iterate through the key:value pairs in the dictionary:\n",
    "    - If the key is not a **string**, remove the key:value pair from the dictionary.\n",
    "    - If the value is not a **list**, remove the key:value pair from the dictionary.\n",
    "- Return the \"cleaned\" dictionary.\n",
    "\n",
    "Your second function, called ```int_string_cleaner``` should:\n",
    "\n",
    "- Accept one argument which will be a dictionary.\n",
    "- Iterate through the key:value pairs in the dictionary:\n",
    "    - If the key is not an **integer**, remove the key:value pair from the dictionary.\n",
    "    - If the value is not a **string**, remove the key:value pair from the dictionary.\n",
    "- Return the \"cleaned\" dictionary.\n",
    "\n",
    "Your third function, called ```dict_cleaner``` should:\n",
    "\n",
    "- Accept two arguments which will be dictionaries.\n",
    "- Print the first dictionary.\n",
    "- Print the second dictionary.\n",
    "- Clean the first dictionary with ```string_intlist_cleaner()``` and assign to a variable.\n",
    "- Clean the second dictionary with ```int_string_cleaner()``` and assign to a variable\n",
    "- Combine the two cleaned dictionaries.\n",
    "- Print the combined and cleaned dictionary.\n",
    "- Return the combined and cleaned dictionary."
   ]
  },
  {
   "cell_type": "code",
   "execution_count": 103,
   "metadata": {
    "collapsed": true
   },
   "outputs": [],
   "source": [
    "first_dict = {'A':(1,2), 'B':[1,2,3,4,4], 'C':[0,9], 1:(1,1,1), 12:None, 'D':None, 'E':12.777}\n",
    "second_dict = {'1':('a','b'), 2:{1:23.3}, 3:'four', 4:'five', 'five':['six', 'seven'], 8:'nine'}"
   ]
  },
  {
   "cell_type": "markdown",
   "metadata": {},
   "source": [
    "#### Define your functions below:"
   ]
  },
  {
   "cell_type": "code",
   "execution_count": 104,
   "metadata": {
    "collapsed": false
   },
   "outputs": [],
   "source": [
    "def string_intlist_cleaner(d):\n",
    "    for k,v in d.items():\n",
    "        if type(k) != str or type(v) != list:\n",
    "            del d[k]\n",
    "    return d\n",
    "    \n",
    "def int_string_cleaner(d):\n",
    "    for k,v in d.items():\n",
    "        if type(k) != int or type(v) != str:\n",
    "            del d[k]\n",
    "    return d\n",
    "            \n",
    "def dict_cleaner(first_dict, second_dict):\n",
    "    new_dict_1 = string_intlist_cleaner(first_dict)\n",
    "    new_dict_2 = int_string_cleaner(second_dict)\n",
    "    new_dict = {}\n",
    "    new_dict.update(new_dict_1)\n",
    "    new_dict.update(new_dict_2)\n",
    "    print 'new dict 1'\n",
    "    print new_dict_1\n",
    "    print 'new dict 2'\n",
    "    print new_dict_2\n",
    "    print 'final new dict'\n",
    "    print new_dict\n",
    "    return new_dict"
   ]
  },
  {
   "cell_type": "markdown",
   "metadata": {},
   "source": [
    "#### Run `dict_cleaner` with `first_dict` and `second_dict`:"
   ]
  },
  {
   "cell_type": "code",
   "execution_count": 105,
   "metadata": {
    "collapsed": false
   },
   "outputs": [
    {
     "name": "stdout",
     "output_type": "stream",
     "text": [
      "new dict 1\n",
      "{'C': [0, 9], 'B': [1, 2, 3, 4, 4]}\n",
      "new dict 2\n",
      "{3: 'four', 4: 'five', 8: 'nine'}\n",
      "final new dict\n",
      "{3: 'four', 8: 'nine', 'C': [0, 9], 'B': [1, 2, 3, 4, 4], 4: 'five'}\n"
     ]
    }
   ],
   "source": [
    "new_dict = dict_cleaner(first_dict, second_dict)"
   ]
  },
  {
   "cell_type": "markdown",
   "metadata": {},
   "source": [
    "<img src=\"http://imgur.com/l5NasQj.png\" style=\"float: left; margin: 25px 15px 0px 0px; height: 25px\">\n",
    "\n",
    "## Review Problem 9A\n",
    "\n",
    "---\n",
    "\n",
    "Load and parse stats on Pokemon (the pokedex) from a comma separated value (`.csv`) file into a list of lists.\n",
    "\n",
    "The provided code below loads information from a comma separated value (csv) file. You need to parse this string into a more useable format. The format of the string is:\n",
    "\n",
    "- Rows are separated by newline characters: `\\n`\n",
    "- Columns are separated by commas: `,`\n",
    "- All cells in the csv are double quoted. Ex: \"PokedexNumber\" is the first cell of the first row.\n",
    "\n",
    "Using `for` loops, create a list of lists where each list within the overall list is a row of the csv, and each element in that list is a cell in that row. Additional criteria:\n",
    "\n",
    "1. Remove the quotes from each cell item.\n",
    "2. Numeric column values should be converted to floats.\n",
    "3. There are some cells that are empty and have no information. For these cells put a -1 value in place.\n",
    "\n",
    "The first three lists in your pokedex list should look like:\n",
    "\n",
    "    ['PokedexNumber', 'Name', 'Type', 'Total', 'HP', 'Attack', 'Defense', 'SpecialAttack', 'SpecialDefense', 'Speed']\n",
    "    [1.0, 'Bulbasaur', 'GrassPoison', 318.0, 45.0, 49.0, 49.0, 65.0, 65.0, 45.0]\n",
    "    [2.0, 'Ivysaur', 'GrassPoison', 405.0, 60.0, 62.0, 63.0, 80.0, 80.0, 60.0]\n"
   ]
  },
  {
   "cell_type": "code",
   "execution_count": 107,
   "metadata": {
    "collapsed": true
   },
   "outputs": [],
   "source": [
    "# Change this filepath to point to the location of the .csv on your own computer:\n",
    "filepath = '/Users/jspath/Desktop/DSI-SF-4-jspath9/datasets/pokemon/pokedex_basic.csv'\n",
    "\n",
    "# Code to read in pokedex info\n",
    "raw_pd = ''\n",
    "with open(filepath, 'r') as f:\n",
    "    raw_pd = f.read()"
   ]
  },
  {
   "cell_type": "markdown",
   "metadata": {},
   "source": [
    "#### Parse the file into the list of lists:"
   ]
  },
  {
   "cell_type": "code",
   "execution_count": 300,
   "metadata": {
    "collapsed": false
   },
   "outputs": [
    {
     "name": "stdout",
     "output_type": "stream",
     "text": [
      "[['PokedexNumber', 'Name', 'Type', 'Total', 'HP', 'Attack', 'Defense', 'SpecialAttack', 'SpecialDefense', 'Speed'], [1.0, 'Bulbasaur', 'GrassPoison', 318.0, 45.0, 49.0, 49.0, 65.0, 65.0, 45.0], [2.0, 'Ivysaur', 'GrassPoison', 405.0, 60.0, 62.0, 63.0, 80.0, 80.0, 60.0]]\n"
     ]
    }
   ],
   "source": [
    "import string\n",
    "lf = '\\n'\n",
    "cm = ','\n",
    "lf_cm = ['\\n', ',']\n",
    "prior_chr = cm\n",
    "count=0\n",
    "new_list = []\n",
    "new_str_list = []\n",
    "process_word = False\n",
    "line_cnt = -1\n",
    "col_cnt = -1\n",
    "for str_chr in raw_pd:\n",
    "    if str_chr == '\"': \n",
    "        if prior_chr in lf_cm:\n",
    "            process_word == True\n",
    "            working_str = ''\n",
    "            if prior_chr == lf:\n",
    "                col_cnt = 0\n",
    "                line_cnt +=1\n",
    "                new_list.append(new_str_list)\n",
    "                new_str_list = []\n",
    "        else:\n",
    "            if working_str == None:\n",
    "                working_str = '-1'\n",
    "            if working_str.isdigit():\n",
    "                float_working_str = float(working_str)\n",
    "                new_str_list.append(float_working_str)\n",
    "            else:\n",
    "                new_str_list.append(working_str)\n",
    "            process_word = False\n",
    "    else:\n",
    "        working_str = working_str + str_chr\n",
    "    prior_chr = str_chr\n",
    "print new_list[0:3]\n"
   ]
  },
  {
   "cell_type": "markdown",
   "metadata": {},
   "source": [
    "#### Print out the first 3 lists"
   ]
  },
  {
   "cell_type": "code",
   "execution_count": null,
   "metadata": {
    "collapsed": true
   },
   "outputs": [],
   "source": []
  },
  {
   "cell_type": "markdown",
   "metadata": {},
   "source": [
    "<img src=\"http://imgur.com/GCAf1UX.png\" style=\"float: left; margin: 25px 15px 0px 0px; height: 25px\">\n",
    "\n",
    "## Review Problem 9.B\n",
    "\n",
    "---\n",
    "\n",
    "Perform the same parsing that you did with `for` loops in problem 9A, but **using only a nested list comprehensions**. A single list comprehension (with nested list comprehensions inside of it) should do all of the parsing of `raw_pd`, outputting the list of lists. Do not write any functions to call within the list comprehension.\n",
    "\n",
    "The output should be exactly the same as in 9A."
   ]
  },
  {
   "cell_type": "markdown",
   "metadata": {},
   "source": [
    "#### Write the nested list comprehension to parse `raw_pd`:"
   ]
  },
  {
   "cell_type": "code",
   "execution_count": null,
   "metadata": {
    "collapsed": true
   },
   "outputs": [],
   "source": []
  },
  {
   "cell_type": "markdown",
   "metadata": {},
   "source": [
    "#### Print the first 3 lines of your parsed pokedex:"
   ]
  },
  {
   "cell_type": "code",
   "execution_count": null,
   "metadata": {
    "collapsed": true
   },
   "outputs": [],
   "source": []
  },
  {
   "cell_type": "markdown",
   "metadata": {},
   "source": [
    "<img src=\"http://imgur.com/gGrau8s.png\" style=\"float: left; margin: 25px 15px 0px 0px; height: 25px\">\n",
    "\n",
    "### Review Problem 10\n",
    "\n",
    "---\n",
    "\n",
    "Write a function that takes a tiered dictionary of dictionaries with arbitrary depth. Your function will iterate through the dictionary, printing out the contents.\n",
    "\n",
    "Define a function that:\n",
    "\n",
    "- Accepts at least one argument, the predefined dictionary.\n",
    "- For each key:value pair, print out the key and the value.\n",
    "- If the value is also a dictionary, do the same for that dictionary, but printing out the key:value pair with tabs equivalent to the current \"depth\" indicating what level we are on.\n",
    "- Note: tab in strings is written as ```\\t```\n",
    "    \n",
    "Example:\n",
    "```python\n",
    "'key1' : 'value1'\n",
    "'key2' :\n",
    "    'key3' : 'value3'\n",
    "    'key4' : 'value4'\n",
    "    'key5' :\n",
    "        'key6': 'value6'\n",
    "'key7' : 'value7'\n",
    "```"
   ]
  },
  {
   "cell_type": "code",
   "execution_count": 9,
   "metadata": {
    "collapsed": true
   },
   "outputs": [],
   "source": [
    "tiered_dict = {'T1.1':'V1.1', \n",
    "               'T1.2':'V1.2',\n",
    "               'T1.3':{'T2.1':'V2.1',\n",
    "                       'T2.2':['V2.2.1','V2.2.2'],\n",
    "                       'T2.3':{'T3.1':['V3.1.1','V3.1.2'],\n",
    "                               'T3.2':'V3.2',\n",
    "                               'T3.3':'V3.3'}},\n",
    "               'T1.4':{'T2.4':{'T3.4':{'T4.1':'V4.1',\n",
    "                                       'T4.2':'V4.2'},\n",
    "                               'T3.5':{'T4.3':'V4.3'}},\n",
    "                       'T2.5':['V2.3.1','V2.3.2']},\n",
    "               }"
   ]
  },
  {
   "cell_type": "markdown",
   "metadata": {},
   "source": [
    "#### Define your function below:"
   ]
  },
  {
   "cell_type": "code",
   "execution_count": null,
   "metadata": {
    "collapsed": true
   },
   "outputs": [],
   "source": []
  },
  {
   "cell_type": "markdown",
   "metadata": {},
   "source": [
    "#### Run your function on `tiered_dict`:"
   ]
  },
  {
   "cell_type": "code",
   "execution_count": null,
   "metadata": {
    "collapsed": true
   },
   "outputs": [],
   "source": []
  }
 ],
 "metadata": {
  "anaconda-cloud": {},
  "kernelspec": {
   "display_name": "Python [Root]",
   "language": "python",
   "name": "Python [Root]"
  },
  "language_info": {
   "codemirror_mode": {
    "name": "ipython",
    "version": 2
   },
   "file_extension": ".py",
   "mimetype": "text/x-python",
   "name": "python",
   "nbconvert_exporter": "python",
   "pygments_lexer": "ipython2",
   "version": "2.7.12"
  }
 },
 "nbformat": 4,
 "nbformat_minor": 0
}
